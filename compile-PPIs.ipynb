{
 "cells": [
  {
   "cell_type": "markdown",
   "metadata": {},
   "source": [
    "# Download several PPI resources and combine them into a single tsv"
   ]
  },
  {
   "cell_type": "code",
   "execution_count": 1,
   "metadata": {
    "collapsed": false
   },
   "outputs": [],
   "source": [
    "import zipfile\n",
    "import io\n",
    "import itertools\n",
    "\n",
    "import pandas\n",
    "import numpy\n",
    "import seaborn\n",
    "\n",
    "%matplotlib inline"
   ]
  },
  {
   "cell_type": "code",
   "execution_count": 2,
   "metadata": {
    "collapsed": true
   },
   "outputs": [],
   "source": [
    "def order_genes_in_df(df):\n",
    "    \"\"\"Ensure that gene_0 is less than gene_1 and drop duplicates.\"\"\"\n",
    "    gene_0 = numpy.minimum(df.gene_0, df.gene_1)\n",
    "    gene_1 = numpy.maximum(df.gene_0, df.gene_1)\n",
    "    df.gene_0, df.gene_1 = gene_0, gene_1\n",
    "    df = df.drop_duplicates()\n",
    "    return df"
   ]
  },
  {
   "cell_type": "code",
   "execution_count": 3,
   "metadata": {
    "collapsed": false
   },
   "outputs": [],
   "source": [
    "%%capture\n",
    "# Download sources\n",
    "! wget --timestamping --directory-prefix download/hid/ http://interactome.dfci.harvard.edu/H_sapiens/download/HI-II-14.tsv\n",
    "! wget --timestamping --directory-prefix download/hid/ http://interactome.dfci.harvard.edu/H_sapiens/download/Lit-BM-13.tsv\n",
    "! wget --timestamping --directory-prefix download/ii/ http://www.sciencemag.org/content/suppl/2015/02/18/347.6224.1257601.DC1/Datasets_S1-S4.zip\n",
    "! wget --timestamping --directory-prefix download/hetio/ http://het.io/disease-genes/downloads/files/protein-interactions.txt.gz"
   ]
  },
  {
   "cell_type": "code",
   "execution_count": 4,
   "metadata": {
    "collapsed": true
   },
   "outputs": [],
   "source": [
    "columns = ['gene_0', 'gene_1', 'source']"
   ]
  },
  {
   "cell_type": "code",
   "execution_count": null,
   "metadata": {
    "collapsed": true
   },
   "outputs": [],
   "source": []
  },
  {
   "cell_type": "markdown",
   "metadata": {},
   "source": [
    "## Incomplete Interactome"
   ]
  },
  {
   "cell_type": "code",
   "execution_count": 5,
   "metadata": {
    "collapsed": false
   },
   "outputs": [
    {
     "data": {
      "text/html": [
       "<div>\n",
       "<table border=\"1\" class=\"dataframe\">\n",
       "  <thead>\n",
       "    <tr style=\"text-align: right;\">\n",
       "      <th></th>\n",
       "      <th>gene_0</th>\n",
       "      <th>gene_1</th>\n",
       "      <th>sources</th>\n",
       "    </tr>\n",
       "  </thead>\n",
       "  <tbody>\n",
       "    <tr>\n",
       "      <th>141291</th>\n",
       "      <td>65005</td>\n",
       "      <td>84311</td>\n",
       "      <td>complexes</td>\n",
       "    </tr>\n",
       "    <tr>\n",
       "      <th>141292</th>\n",
       "      <td>4750</td>\n",
       "      <td>7249</td>\n",
       "      <td>binary;literature;signaling</td>\n",
       "    </tr>\n",
       "    <tr>\n",
       "      <th>141293</th>\n",
       "      <td>4644</td>\n",
       "      <td>90427</td>\n",
       "      <td>literature</td>\n",
       "    </tr>\n",
       "    <tr>\n",
       "      <th>141294</th>\n",
       "      <td>204851</td>\n",
       "      <td>2275</td>\n",
       "      <td>binary</td>\n",
       "    </tr>\n",
       "    <tr>\n",
       "      <th>141295</th>\n",
       "      <td>116173</td>\n",
       "      <td>8803</td>\n",
       "      <td>binary</td>\n",
       "    </tr>\n",
       "  </tbody>\n",
       "</table>\n",
       "</div>"
      ],
      "text/plain": [
       "        gene_0  gene_1                      sources\n",
       "141291   65005   84311                    complexes\n",
       "141292    4750    7249  binary;literature;signaling\n",
       "141293    4644   90427                   literature\n",
       "141294  204851    2275                       binary\n",
       "141295  116173    8803                       binary"
      ]
     },
     "execution_count": 5,
     "metadata": {},
     "output_type": "execute_result"
    }
   ],
   "source": [
    "with zipfile.ZipFile('download/ii/Datasets_S1-S4.zip') as zip_file:\n",
    "    with zip_file.open('data/DataS1_interactome.tsv', 'r') as read_file:\n",
    "        ii_df = pandas.read_table(read_file, comment='#', names=['gene_0', 'gene_1', 'sources'])\n",
    "\n",
    "ii_df.tail()"
   ]
  },
  {
   "cell_type": "code",
   "execution_count": 6,
   "metadata": {
    "collapsed": false
   },
   "outputs": [
    {
     "data": {
      "text/html": [
       "<div>\n",
       "<table border=\"1\" class=\"dataframe\">\n",
       "  <thead>\n",
       "    <tr style=\"text-align: right;\">\n",
       "      <th></th>\n",
       "      <th>gene_0</th>\n",
       "      <th>gene_1</th>\n",
       "      <th>source</th>\n",
       "    </tr>\n",
       "  </thead>\n",
       "  <tbody>\n",
       "    <tr>\n",
       "      <th>193708</th>\n",
       "      <td>2275</td>\n",
       "      <td>204851</td>\n",
       "      <td>II_binary</td>\n",
       "    </tr>\n",
       "    <tr>\n",
       "      <th>193709</th>\n",
       "      <td>8803</td>\n",
       "      <td>116173</td>\n",
       "      <td>II_binary</td>\n",
       "    </tr>\n",
       "  </tbody>\n",
       "</table>\n",
       "</div>"
      ],
      "text/plain": [
       "        gene_0  gene_1     source\n",
       "193708    2275  204851  II_binary\n",
       "193709    8803  116173  II_binary"
      ]
     },
     "execution_count": 6,
     "metadata": {},
     "output_type": "execute_result"
    }
   ],
   "source": [
    "rows = list()\n",
    "\n",
    "for i, (gene_0, gene_1, sources) in ii_df.iterrows():\n",
    "    sources = sources.split(';')\n",
    "    for source in sources:\n",
    "        row = gene_0, gene_1, 'II_{}'.format(source)\n",
    "        rows.append(row)\n",
    "\n",
    "ii_df = pandas.DataFrame(rows, columns=columns)\n",
    "ii_df = order_genes_in_df(ii_df)\n",
    "ii_df.tail(2)"
   ]
  },
  {
   "cell_type": "markdown",
   "metadata": {},
   "source": [
    "## Human Interactome Database"
   ]
  },
  {
   "cell_type": "code",
   "execution_count": 7,
   "metadata": {
    "collapsed": false
   },
   "outputs": [
    {
     "data": {
      "text/plain": [
       "13944"
      ]
     },
     "execution_count": 7,
     "metadata": {},
     "output_type": "execute_result"
    }
   ],
   "source": [
    "systematic_df = pandas.read_table('download/hid/HI-II-14.tsv')\n",
    "systematic_df = systematic_df[['Entrez Gene IDA', 'Entrez Gene IDB']]\n",
    "systematic_df['source'] = 'HI-II-14'\n",
    "systematic_df.columns = columns\n",
    "systematic_df = order_genes_in_df(systematic_df)\n",
    "len(systematic_df)"
   ]
  },
  {
   "cell_type": "code",
   "execution_count": 8,
   "metadata": {
    "collapsed": false
   },
   "outputs": [
    {
     "data": {
      "text/plain": [
       "11045"
      ]
     },
     "execution_count": 8,
     "metadata": {},
     "output_type": "execute_result"
    }
   ],
   "source": [
    "literature_df = pandas.read_table('download/hid/Lit-BM-13.tsv')\n",
    "literature_df = literature_df[['entrez_gene_ida', 'entrez_gene_idb']]\n",
    "literature_df['source'] = 'Lit-BM-13'\n",
    "literature_df.columns = columns\n",
    "literature_df = order_genes_in_df(literature_df)\n",
    "len(literature_df)"
   ]
  },
  {
   "cell_type": "markdown",
   "metadata": {},
   "source": [
    "## Hetio"
   ]
  },
  {
   "cell_type": "code",
   "execution_count": 9,
   "metadata": {
    "collapsed": false
   },
   "outputs": [],
   "source": [
    "url = 'https://raw.githubusercontent.com/dhimmel/entrez-gene/6e133f9ef8ce51a4c5387e58a6cc97564a66cec8/data/xrefs-human.tsv'\n",
    "entrez_df = pandas.read_table(url)\n",
    "entrez_df = entrez_df[entrez_df.resource == 'HGNC'].rename(columns={'identifier': 'hgnc_id'})[['GeneID', 'hgnc_id']]"
   ]
  },
  {
   "cell_type": "code",
   "execution_count": 10,
   "metadata": {
    "collapsed": true
   },
   "outputs": [],
   "source": [
    "hetio_df = pandas.read_table('download/hetio/protein-interactions.txt.gz', compression='gzip')"
   ]
  },
  {
   "cell_type": "code",
   "execution_count": 11,
   "metadata": {
    "collapsed": false
   },
   "outputs": [
    {
     "data": {
      "text/html": [
       "<div>\n",
       "<table border=\"1\" class=\"dataframe\">\n",
       "  <thead>\n",
       "    <tr style=\"text-align: right;\">\n",
       "      <th></th>\n",
       "      <th>gene_0</th>\n",
       "      <th>gene_1</th>\n",
       "      <th>source</th>\n",
       "    </tr>\n",
       "  </thead>\n",
       "  <tbody>\n",
       "    <tr>\n",
       "      <th>0</th>\n",
       "      <td>1</td>\n",
       "      <td>310</td>\n",
       "      <td>hetio</td>\n",
       "    </tr>\n",
       "    <tr>\n",
       "      <th>1</th>\n",
       "      <td>2</td>\n",
       "      <td>310</td>\n",
       "      <td>hetio</td>\n",
       "    </tr>\n",
       "    <tr>\n",
       "      <th>2</th>\n",
       "      <td>285</td>\n",
       "      <td>310</td>\n",
       "      <td>hetio</td>\n",
       "    </tr>\n",
       "    <tr>\n",
       "      <th>3</th>\n",
       "      <td>310</td>\n",
       "      <td>11161</td>\n",
       "      <td>hetio</td>\n",
       "    </tr>\n",
       "    <tr>\n",
       "      <th>4</th>\n",
       "      <td>310</td>\n",
       "      <td>10574</td>\n",
       "      <td>hetio</td>\n",
       "    </tr>\n",
       "  </tbody>\n",
       "</table>\n",
       "</div>"
      ],
      "text/plain": [
       "   gene_0  gene_1 source\n",
       "0       1     310  hetio\n",
       "1       2     310  hetio\n",
       "2     285     310  hetio\n",
       "3     310   11161  hetio\n",
       "4     310   10574  hetio"
      ]
     },
     "execution_count": 11,
     "metadata": {},
     "output_type": "execute_result"
    }
   ],
   "source": [
    "hetio_df = hetio_df.merge(\n",
    "    entrez_df.rename(columns={'GeneID': 'gene_0', 'hgnc_id': 'source_code'})).merge(\n",
    "    entrez_df.rename(columns={'GeneID': 'gene_1', 'hgnc_id': 'target_code'}))\n",
    "hetio_df = hetio_df[['gene_0', 'gene_1']]\n",
    "hetio_df['source'] = 'hetio'\n",
    "hetio_df = order_genes_in_df(hetio_df)\n",
    "hetio_df.head()"
   ]
  },
  {
   "cell_type": "markdown",
   "metadata": {},
   "source": [
    "## Combine"
   ]
  },
  {
   "cell_type": "code",
   "execution_count": 12,
   "metadata": {
    "collapsed": false
   },
   "outputs": [
    {
     "data": {
      "text/plain": [
       "316818"
      ]
     },
     "execution_count": 12,
     "metadata": {},
     "output_type": "execute_result"
    }
   ],
   "source": [
    "combined_df = pandas.concat([ii_df, systematic_df, literature_df, hetio_df])\n",
    "combined_df = combined_df.sort(list(combined_df.columns))\n",
    "len(combined_df)"
   ]
  },
  {
   "cell_type": "code",
   "execution_count": 13,
   "metadata": {
    "collapsed": false
   },
   "outputs": [],
   "source": [
    "source_to_interactions = dict()\n",
    "for i, (gene_0, gene_1, source) in combined_df.iterrows():\n",
    "    interactions = source_to_interactions.setdefault(source, set())\n",
    "    interactions.add(frozenset((gene_0, gene_1)))"
   ]
  },
  {
   "cell_type": "code",
   "execution_count": 14,
   "metadata": {
    "collapsed": false
   },
   "outputs": [
    {
     "data": {
      "text/plain": [
       "{'HI-II-14': 13944,\n",
       " 'II_binary': 28653,\n",
       " 'II_complexes': 31276,\n",
       " 'II_kinase': 6066,\n",
       " 'II_literature': 88349,\n",
       " 'II_metabolic': 5325,\n",
       " 'II_regulatory': 1335,\n",
       " 'II_signaling': 32706,\n",
       " 'Lit-BM-13': 11045,\n",
       " 'hetio': 98119}"
      ]
     },
     "execution_count": 14,
     "metadata": {},
     "output_type": "execute_result"
    }
   ],
   "source": [
    "# Interactions per resource\n",
    "{k: len(v) for k, v in source_to_interactions.items()}"
   ]
  },
  {
   "cell_type": "code",
   "execution_count": 15,
   "metadata": {
    "collapsed": false
   },
   "outputs": [
    {
     "data": {
      "text/html": [
       "<div>\n",
       "<table border=\"1\" class=\"dataframe\">\n",
       "  <thead>\n",
       "    <tr style=\"text-align: right;\">\n",
       "      <th>source_1</th>\n",
       "      <th>HI-II-14</th>\n",
       "      <th>II_binary</th>\n",
       "      <th>II_complexes</th>\n",
       "      <th>II_kinase</th>\n",
       "      <th>II_literature</th>\n",
       "      <th>II_metabolic</th>\n",
       "      <th>II_regulatory</th>\n",
       "      <th>II_signaling</th>\n",
       "      <th>Lit-BM-13</th>\n",
       "      <th>hetio</th>\n",
       "    </tr>\n",
       "    <tr>\n",
       "      <th>source_0</th>\n",
       "      <th></th>\n",
       "      <th></th>\n",
       "      <th></th>\n",
       "      <th></th>\n",
       "      <th></th>\n",
       "      <th></th>\n",
       "      <th></th>\n",
       "      <th></th>\n",
       "      <th></th>\n",
       "      <th></th>\n",
       "    </tr>\n",
       "  </thead>\n",
       "  <tbody>\n",
       "    <tr>\n",
       "      <th>HI-II-14</th>\n",
       "      <td>100.00</td>\n",
       "      <td>100.00</td>\n",
       "      <td>0.85</td>\n",
       "      <td>0.09</td>\n",
       "      <td>9.19</td>\n",
       "      <td>0.01</td>\n",
       "      <td>0.00</td>\n",
       "      <td>4.79</td>\n",
       "      <td>2.94</td>\n",
       "      <td>9.43</td>\n",
       "    </tr>\n",
       "    <tr>\n",
       "      <th>II_binary</th>\n",
       "      <td>48.67</td>\n",
       "      <td>100.00</td>\n",
       "      <td>1.70</td>\n",
       "      <td>0.69</td>\n",
       "      <td>49.01</td>\n",
       "      <td>0.01</td>\n",
       "      <td>0.04</td>\n",
       "      <td>27.42</td>\n",
       "      <td>9.96</td>\n",
       "      <td>47.24</td>\n",
       "    </tr>\n",
       "    <tr>\n",
       "      <th>II_complexes</th>\n",
       "      <td>0.38</td>\n",
       "      <td>1.56</td>\n",
       "      <td>100.00</td>\n",
       "      <td>0.24</td>\n",
       "      <td>23.52</td>\n",
       "      <td>0.05</td>\n",
       "      <td>0.01</td>\n",
       "      <td>4.68</td>\n",
       "      <td>2.90</td>\n",
       "      <td>9.67</td>\n",
       "    </tr>\n",
       "    <tr>\n",
       "      <th>II_kinase</th>\n",
       "      <td>0.20</td>\n",
       "      <td>3.25</td>\n",
       "      <td>1.24</td>\n",
       "      <td>100.00</td>\n",
       "      <td>32.00</td>\n",
       "      <td>0.00</td>\n",
       "      <td>0.03</td>\n",
       "      <td>24.81</td>\n",
       "      <td>4.39</td>\n",
       "      <td>31.40</td>\n",
       "    </tr>\n",
       "    <tr>\n",
       "      <th>II_literature</th>\n",
       "      <td>1.45</td>\n",
       "      <td>15.89</td>\n",
       "      <td>8.32</td>\n",
       "      <td>2.20</td>\n",
       "      <td>100.00</td>\n",
       "      <td>0.04</td>\n",
       "      <td>0.07</td>\n",
       "      <td>32.55</td>\n",
       "      <td>9.78</td>\n",
       "      <td>54.30</td>\n",
       "    </tr>\n",
       "    <tr>\n",
       "      <th>II_metabolic</th>\n",
       "      <td>0.04</td>\n",
       "      <td>0.08</td>\n",
       "      <td>0.32</td>\n",
       "      <td>0.00</td>\n",
       "      <td>0.66</td>\n",
       "      <td>100.00</td>\n",
       "      <td>0.00</td>\n",
       "      <td>0.24</td>\n",
       "      <td>0.08</td>\n",
       "      <td>0.75</td>\n",
       "    </tr>\n",
       "    <tr>\n",
       "      <th>II_regulatory</th>\n",
       "      <td>0.00</td>\n",
       "      <td>0.82</td>\n",
       "      <td>0.15</td>\n",
       "      <td>0.15</td>\n",
       "      <td>4.79</td>\n",
       "      <td>0.00</td>\n",
       "      <td>100.00</td>\n",
       "      <td>3.37</td>\n",
       "      <td>1.20</td>\n",
       "      <td>9.96</td>\n",
       "    </tr>\n",
       "    <tr>\n",
       "      <th>II_signaling</th>\n",
       "      <td>2.04</td>\n",
       "      <td>24.02</td>\n",
       "      <td>4.48</td>\n",
       "      <td>4.60</td>\n",
       "      <td>87.94</td>\n",
       "      <td>0.04</td>\n",
       "      <td>0.14</td>\n",
       "      <td>100.00</td>\n",
       "      <td>15.51</td>\n",
       "      <td>88.98</td>\n",
       "    </tr>\n",
       "    <tr>\n",
       "      <th>Lit-BM-13</th>\n",
       "      <td>3.71</td>\n",
       "      <td>25.83</td>\n",
       "      <td>8.20</td>\n",
       "      <td>2.41</td>\n",
       "      <td>78.21</td>\n",
       "      <td>0.04</td>\n",
       "      <td>0.14</td>\n",
       "      <td>45.93</td>\n",
       "      <td>100.00</td>\n",
       "      <td>86.17</td>\n",
       "    </tr>\n",
       "    <tr>\n",
       "      <th>hetio</th>\n",
       "      <td>1.34</td>\n",
       "      <td>13.80</td>\n",
       "      <td>3.08</td>\n",
       "      <td>1.94</td>\n",
       "      <td>48.89</td>\n",
       "      <td>0.04</td>\n",
       "      <td>0.14</td>\n",
       "      <td>29.66</td>\n",
       "      <td>9.70</td>\n",
       "      <td>100.00</td>\n",
       "    </tr>\n",
       "  </tbody>\n",
       "</table>\n",
       "</div>"
      ],
      "text/plain": [
       "source_1       HI-II-14  II_binary  II_complexes  II_kinase  II_literature  \\\n",
       "source_0                                                                     \n",
       "HI-II-14         100.00     100.00          0.85       0.09           9.19   \n",
       "II_binary         48.67     100.00          1.70       0.69          49.01   \n",
       "II_complexes       0.38       1.56        100.00       0.24          23.52   \n",
       "II_kinase          0.20       3.25          1.24     100.00          32.00   \n",
       "II_literature      1.45      15.89          8.32       2.20         100.00   \n",
       "II_metabolic       0.04       0.08          0.32       0.00           0.66   \n",
       "II_regulatory      0.00       0.82          0.15       0.15           4.79   \n",
       "II_signaling       2.04      24.02          4.48       4.60          87.94   \n",
       "Lit-BM-13          3.71      25.83          8.20       2.41          78.21   \n",
       "hetio              1.34      13.80          3.08       1.94          48.89   \n",
       "\n",
       "source_1       II_metabolic  II_regulatory  II_signaling  Lit-BM-13   hetio  \n",
       "source_0                                                                     \n",
       "HI-II-14               0.01           0.00          4.79       2.94    9.43  \n",
       "II_binary              0.01           0.04         27.42       9.96   47.24  \n",
       "II_complexes           0.05           0.01          4.68       2.90    9.67  \n",
       "II_kinase              0.00           0.03         24.81       4.39   31.40  \n",
       "II_literature          0.04           0.07         32.55       9.78   54.30  \n",
       "II_metabolic         100.00           0.00          0.24       0.08    0.75  \n",
       "II_regulatory          0.00         100.00          3.37       1.20    9.96  \n",
       "II_signaling           0.04           0.14        100.00      15.51   88.98  \n",
       "Lit-BM-13              0.04           0.14         45.93     100.00   86.17  \n",
       "hetio                  0.04           0.14         29.66       9.70  100.00  "
      ]
     },
     "execution_count": 15,
     "metadata": {},
     "output_type": "execute_result"
    }
   ],
   "source": [
    "# What percent of the interactions from the row source are in the interactions from the column source\n",
    "rows = []\n",
    "for source_0, source_1 in itertools.product(source_to_interactions, repeat=2):\n",
    "    source_0_genes = source_to_interactions[source_0]\n",
    "    intersect = source_0_genes & source_to_interactions[source_1]\n",
    "    rows.append((source_0, source_1, len(intersect) / len(source_0_genes)))\n",
    "\n",
    "overlap_df = pandas.DataFrame(rows, columns=['source_0', 'source_1', 'coverage'])\n",
    "overlap_df = overlap_df.pivot('source_0', 'source_1', 'coverage')\n",
    "numpy.round(overlap_df * 100, 2)"
   ]
  },
  {
   "cell_type": "code",
   "execution_count": 16,
   "metadata": {
    "collapsed": false
   },
   "outputs": [
    {
     "data": {
      "image/png": "[encoded data removed]",
      "text/plain": [
       "<matplotlib.figure.Figure at 0x7f1878b6b550>"
      ]
     },
     "metadata": {},
     "output_type": "display_data"
    }
   ],
   "source": [
    "seaborn.heatmap(overlap_df * 100);"
   ]
  },
  {
   "cell_type": "code",
   "execution_count": 17,
   "metadata": {
    "collapsed": false
   },
   "outputs": [],
   "source": [
    "combined_df.to_csv('data/ppi-sources.tsv', index=False, sep='\\t')"
   ]
  }
 ],
 "metadata": {
  "kernelspec": {
   "display_name": "Python 3",
   "language": "python",
   "name": "python3"
  },
  "language_info": {
   "codemirror_mode": {
    "name": "ipython",
    "version": 3
   },
   "file_extension": ".py",
   "mimetype": "text/x-python",
   "name": "python",
   "nbconvert_exporter": "python",
   "pygments_lexer": "ipython3",
   "version": "3.4.3"
  }
 },
 "nbformat": 4,
 "nbformat_minor": 0
}
