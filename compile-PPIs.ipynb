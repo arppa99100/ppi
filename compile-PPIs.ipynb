{
 "cells": [
  {
   "cell_type": "markdown",
   "metadata": {},
   "source": [
    "# Download several PPI resources and combine them into a single tsv"
   ]
  },
  {
   "cell_type": "code",
   "execution_count": 1,
   "metadata": {
    "collapsed": false
   },
   "outputs": [
    {
     "name": "stderr",
     "output_type": "stream",
     "text": [
      "/home/dhimmels/anaconda3/lib/python3.5/site-packages/matplotlib/__init__.py:872: UserWarning: axes.color_cycle is deprecated and replaced with axes.prop_cycle; please use the latter.\n",
      "  warnings.warn(self.msg_depr % (key, alt_key))\n"
     ]
    }
   ],
   "source": [
    "import zipfile\n",
    "import io\n",
    "import itertools\n",
    "\n",
    "import pandas\n",
    "import numpy\n",
    "import seaborn\n",
    "\n",
    "%matplotlib inline"
   ]
  },
  {
   "cell_type": "code",
   "execution_count": 2,
   "metadata": {
    "collapsed": true
   },
   "outputs": [],
   "source": [
    "def order_genes_in_df(df):\n",
    "    \"\"\"Ensure that gene_0 is less than gene_1 and drop duplicates.\"\"\"\n",
    "    gene_0 = numpy.minimum(df.gene_0, df.gene_1)\n",
    "    gene_1 = numpy.maximum(df.gene_0, df.gene_1)\n",
    "    df.gene_0, df.gene_1 = gene_0, gene_1\n",
    "    df = df.drop_duplicates()\n",
    "    return df"
   ]
  },
  {
   "cell_type": "code",
   "execution_count": 3,
   "metadata": {
    "collapsed": false
   },
   "outputs": [],
   "source": [
    "# Download sources\n",
    "# ! wget --timestamping --directory-prefix download/hid/ http://interactome.dfci.harvard.edu/H_sapiens/download/HI-II-14.tsv\n",
    "# ! wget --timestamping --directory-prefix download/hid/ http://interactome.dfci.harvard.edu/H_sapiens/download/HI-I-05.tsv\n",
    "# ! wget --timestamping --directory-prefix download/hid/ http://interactome.dfci.harvard.edu/H_sapiens/download/Lit-BM-13.tsv\n",
    "# ! wget --timestamping --directory-prefix download/hid/ http://interactome.dfci.harvard.edu/H_sapiens/download/Venkatesan-09.tsv\n",
    "# ! wget --timestamping --directory-prefix download/hid/ http://interactome.dfci.harvard.edu/H_sapiens/download/Yu-11.tsv\n",
    "# ! wget --timestamping --directory-prefix download/ii/ http://www.sciencemag.org/content/suppl/2015/02/18/347.6224.1257601.DC1/Datasets_S1-S4.zip\n",
    "# ! wget --timestamping --directory-prefix download/hetio/ http://het.io/disease-genes/downloads/files/protein-interactions.txt.gz"
   ]
  },
  {
   "cell_type": "code",
   "execution_count": 4,
   "metadata": {
    "collapsed": true
   },
   "outputs": [],
   "source": [
    "columns = ['gene_0', 'gene_1', 'source']"
   ]
  },
  {
   "cell_type": "markdown",
   "metadata": {},
   "source": [
    "## Incomplete Interactome\n",
    "\n",
    "https://dx.doi.org/10.1126/science.1257601"
   ]
  },
  {
   "cell_type": "code",
   "execution_count": 5,
   "metadata": {
    "collapsed": false
   },
   "outputs": [
    {
     "data": {
      "text/html": [
       "<div>\n",
       "<table border=\"1\" class=\"dataframe\">\n",
       "  <thead>\n",
       "    <tr style=\"text-align: right;\">\n",
       "      <th></th>\n",
       "      <th>gene_0</th>\n",
       "      <th>gene_1</th>\n",
       "      <th>sources</th>\n",
       "    </tr>\n",
       "  </thead>\n",
       "  <tbody>\n",
       "    <tr>\n",
       "      <th>141294</th>\n",
       "      <td>204851</td>\n",
       "      <td>2275</td>\n",
       "      <td>binary</td>\n",
       "    </tr>\n",
       "    <tr>\n",
       "      <th>141295</th>\n",
       "      <td>116173</td>\n",
       "      <td>8803</td>\n",
       "      <td>binary</td>\n",
       "    </tr>\n",
       "  </tbody>\n",
       "</table>\n",
       "</div>"
      ],
      "text/plain": [
       "        gene_0  gene_1 sources\n",
       "141294  204851    2275  binary\n",
       "141295  116173    8803  binary"
      ]
     },
     "execution_count": 5,
     "metadata": {},
     "output_type": "execute_result"
    }
   ],
   "source": [
    "# read dataset inside of zipfile\n",
    "with zipfile.ZipFile('download/ii/Datasets_S1-S4.zip') as zip_file:\n",
    "    with zip_file.open('data/DataS1_interactome.tsv', 'r') as read_file:\n",
    "        ii_df = pandas.read_table(read_file, comment='#', names=['gene_0', 'gene_1', 'sources'])\n",
    "\n",
    "ii_df.tail(2)"
   ]
  },
  {
   "cell_type": "code",
   "execution_count": 6,
   "metadata": {
    "collapsed": false
   },
   "outputs": [
    {
     "data": {
      "text/html": [
       "<div>\n",
       "<table border=\"1\" class=\"dataframe\">\n",
       "  <thead>\n",
       "    <tr style=\"text-align: right;\">\n",
       "      <th></th>\n",
       "      <th>gene_0</th>\n",
       "      <th>gene_1</th>\n",
       "      <th>source</th>\n",
       "    </tr>\n",
       "  </thead>\n",
       "  <tbody>\n",
       "    <tr>\n",
       "      <th>193708</th>\n",
       "      <td>2275</td>\n",
       "      <td>204851</td>\n",
       "      <td>II_binary</td>\n",
       "    </tr>\n",
       "    <tr>\n",
       "      <th>193709</th>\n",
       "      <td>8803</td>\n",
       "      <td>116173</td>\n",
       "      <td>II_binary</td>\n",
       "    </tr>\n",
       "  </tbody>\n",
       "</table>\n",
       "</div>"
      ],
      "text/plain": [
       "        gene_0  gene_1     source\n",
       "193708    2275  204851  II_binary\n",
       "193709    8803  116173  II_binary"
      ]
     },
     "execution_count": 6,
     "metadata": {},
     "output_type": "execute_result"
    }
   ],
   "source": [
    "# process so one PPI report per row\n",
    "rows = list()\n",
    "\n",
    "for i, (gene_0, gene_1, sources) in ii_df.iterrows():\n",
    "    sources = sources.split(';')\n",
    "    for source in sources:\n",
    "        row = gene_0, gene_1, 'II_{}'.format(source)\n",
    "        rows.append(row)\n",
    "\n",
    "ii_df = pandas.DataFrame(rows, columns=columns)\n",
    "ii_df = order_genes_in_df(ii_df)\n",
    "ii_df.tail(2)"
   ]
  },
  {
   "cell_type": "markdown",
   "metadata": {},
   "source": [
    "## Human Interactome Database\n",
    "\n",
    "[Documentation](http://interactome.dfci.harvard.edu/H_sapiens/index.php?page=home) and [downloads](http://interactome.dfci.harvard.edu/H_sapiens/index.php?page=download)"
   ]
  },
  {
   "cell_type": "code",
   "execution_count": 7,
   "metadata": {
    "collapsed": false
   },
   "outputs": [
    {
     "data": {
      "text/plain": [
       "2754"
      ]
     },
     "execution_count": 7,
     "metadata": {},
     "output_type": "execute_result"
    }
   ],
   "source": [
    "# HI-I-05\n",
    "raul_df = pandas.read_table('download/hid/HI-I-05.tsv')\n",
    "raul_df = raul_df[['Entrez Gene IDA', 'Entrez Gene IDB']]\n",
    "raul_df['source'] = 'HI-I-05'\n",
    "raul_df.columns = columns\n",
    "raul_df = order_genes_in_df(raul_df)\n",
    "len(raul_df)"
   ]
  },
  {
   "cell_type": "code",
   "execution_count": 8,
   "metadata": {
    "collapsed": false
   },
   "outputs": [
    {
     "data": {
      "text/plain": [
       "239"
      ]
     },
     "execution_count": 8,
     "metadata": {},
     "output_type": "execute_result"
    }
   ],
   "source": [
    "# Venkatesan-09\n",
    "venk_df = pandas.read_table('download/hid/Venkatesan-09.tsv')\n",
    "venk_df = venk_df[['DB Entrez Gene IDA', 'AD Entrez Gene ID']]\n",
    "venk_df['source'] = 'Venkatesan-09'\n",
    "venk_df.columns = columns\n",
    "venk_df = order_genes_in_df(venk_df)\n",
    "len(venk_df)"
   ]
  },
  {
   "cell_type": "code",
   "execution_count": 9,
   "metadata": {
    "collapsed": false
   },
   "outputs": [
    {
     "data": {
      "text/plain": [
       "1167"
      ]
     },
     "execution_count": 9,
     "metadata": {},
     "output_type": "execute_result"
    }
   ],
   "source": [
    "# Yu-11\n",
    "yu_df = pandas.read_table('download/hid/Yu-11.tsv')\n",
    "yu_df = yu_df[['Entrez Gene IDA', 'Entrez Gene IDB']]\n",
    "yu_df['source'] = 'Yu-11'\n",
    "yu_df.columns = columns\n",
    "yu_df = order_genes_in_df(yu_df)\n",
    "len(yu_df)"
   ]
  },
  {
   "cell_type": "code",
   "execution_count": 10,
   "metadata": {
    "collapsed": false
   },
   "outputs": [
    {
     "data": {
      "text/plain": [
       "13944"
      ]
     },
     "execution_count": 10,
     "metadata": {},
     "output_type": "execute_result"
    }
   ],
   "source": [
    "# HI-II-14\n",
    "rolland_df = pandas.read_table('download/hid/HI-II-14.tsv')\n",
    "rolland_df = rolland_df[['Entrez Gene IDA', 'Entrez Gene IDB']]\n",
    "rolland_df['source'] = 'HI-II-14'\n",
    "rolland_df.columns = columns\n",
    "rolland_df = order_genes_in_df(rolland_df)\n",
    "len(rolland_df)"
   ]
  },
  {
   "cell_type": "code",
   "execution_count": 11,
   "metadata": {
    "collapsed": false
   },
   "outputs": [
    {
     "data": {
      "text/plain": [
       "11045"
      ]
     },
     "execution_count": 11,
     "metadata": {},
     "output_type": "execute_result"
    }
   ],
   "source": [
    "# Lit-BM-13\n",
    "rolland_lit_df = pandas.read_table('download/hid/Lit-BM-13.tsv')\n",
    "rolland_lit_df = rolland_lit_df[['entrez_gene_ida', 'entrez_gene_idb']]\n",
    "rolland_lit_df['source'] = 'Lit-BM-13'\n",
    "rolland_lit_df.columns = columns\n",
    "rolland_lit_df = order_genes_in_df(rolland_lit_df)\n",
    "len(rolland_lit_df)"
   ]
  },
  {
   "cell_type": "markdown",
   "metadata": {},
   "source": [
    "## Hetio-dag\n",
    "\n",
    "http://het.io/disease-genes/downloads/"
   ]
  },
  {
   "cell_type": "code",
   "execution_count": 12,
   "metadata": {
    "collapsed": false
   },
   "outputs": [],
   "source": [
    "# Entrez Gene mapping\n",
    "url = 'https://raw.githubusercontent.com/dhimmel/entrez-gene/6e133f9ef8ce51a4c5387e58a6cc97564a66cec8/data/xrefs-human.tsv'\n",
    "entrez_df = pandas.read_table(url)\n",
    "entrez_df = entrez_df[entrez_df.resource == 'HGNC'].rename(columns={'identifier': 'hgnc_id'})[['GeneID', 'hgnc_id']]"
   ]
  },
  {
   "cell_type": "code",
   "execution_count": 13,
   "metadata": {
    "collapsed": true
   },
   "outputs": [],
   "source": [
    "discard = {\n",
    "    'MI:0190(interaction type)',\n",
    "    'MI:0208(genetic interaction)',\n",
    "    'MI:0403(colocalization)',\n",
    "    'MI:0914(association)',\n",
    "    'MI:1110(predicted interaction)',\n",
    "}"
   ]
  },
  {
   "cell_type": "code",
   "execution_count": 14,
   "metadata": {
    "collapsed": false
   },
   "outputs": [
    {
     "data": {
      "text/plain": [
       "98187"
      ]
     },
     "execution_count": 14,
     "metadata": {},
     "output_type": "execute_result"
    }
   ],
   "source": [
    "hetio_df = pandas.read_table('download/hetio/protein-interactions.txt.gz', compression='gzip')\n",
    "len(hetio_df)"
   ]
  },
  {
   "cell_type": "code",
   "execution_count": 15,
   "metadata": {
    "collapsed": false
   },
   "outputs": [
    {
     "data": {
      "text/plain": [
       "96366"
      ]
     },
     "execution_count": 15,
     "metadata": {},
     "output_type": "execute_result"
    }
   ],
   "source": [
    "hetio_df = hetio_df[hetio_df.interaction_type.map(lambda x: bool(set(x.split('|')) - discard))]\n",
    "len(hetio_df)"
   ]
  },
  {
   "cell_type": "code",
   "execution_count": 16,
   "metadata": {
    "collapsed": false
   },
   "outputs": [
    {
     "data": {
      "text/html": [
       "<div>\n",
       "<table border=\"1\" class=\"dataframe\">\n",
       "  <thead>\n",
       "    <tr style=\"text-align: right;\">\n",
       "      <th></th>\n",
       "      <th>gene_0</th>\n",
       "      <th>gene_1</th>\n",
       "      <th>source</th>\n",
       "    </tr>\n",
       "  </thead>\n",
       "  <tbody>\n",
       "    <tr>\n",
       "      <th>0</th>\n",
       "      <td>1</td>\n",
       "      <td>310</td>\n",
       "      <td>hetio-dag</td>\n",
       "    </tr>\n",
       "    <tr>\n",
       "      <th>1</th>\n",
       "      <td>2</td>\n",
       "      <td>310</td>\n",
       "      <td>hetio-dag</td>\n",
       "    </tr>\n",
       "  </tbody>\n",
       "</table>\n",
       "</div>"
      ],
      "text/plain": [
       "   gene_0  gene_1     source\n",
       "0       1     310  hetio-dag\n",
       "1       2     310  hetio-dag"
      ]
     },
     "execution_count": 16,
     "metadata": {},
     "output_type": "execute_result"
    }
   ],
   "source": [
    "hetio_df = hetio_df.merge(\n",
    "    entrez_df.rename(columns={'GeneID': 'gene_0', 'hgnc_id': 'source_code'})).merge(\n",
    "    entrez_df.rename(columns={'GeneID': 'gene_1', 'hgnc_id': 'target_code'}))\n",
    "hetio_df = hetio_df[['gene_0', 'gene_1']]\n",
    "hetio_df['source'] = 'hetio-dag'\n",
    "hetio_df = order_genes_in_df(hetio_df)\n",
    "hetio_df.head(2)"
   ]
  },
  {
   "cell_type": "markdown",
   "metadata": {},
   "source": [
    "## Combine"
   ]
  },
  {
   "cell_type": "code",
   "execution_count": 17,
   "metadata": {
    "collapsed": false
   },
   "outputs": [
    {
     "data": {
      "text/plain": [
       "319158"
      ]
     },
     "execution_count": 17,
     "metadata": {},
     "output_type": "execute_result"
    }
   ],
   "source": [
    "combined_df = pandas.concat([raul_df, venk_df, yu_df, rolland_df, rolland_lit_df, ii_df, hetio_df])\n",
    "combined_df = combined_df.sort_values(list(combined_df.columns))\n",
    "len(combined_df)"
   ]
  },
  {
   "cell_type": "code",
   "execution_count": 18,
   "metadata": {
    "collapsed": false
   },
   "outputs": [],
   "source": [
    "source_to_interactions = dict()\n",
    "for i, (gene_0, gene_1, source) in combined_df.iterrows():\n",
    "    interactions = source_to_interactions.setdefault(source, set())\n",
    "    interactions.add(frozenset((gene_0, gene_1)))"
   ]
  },
  {
   "cell_type": "code",
   "execution_count": 19,
   "metadata": {
    "collapsed": false
   },
   "outputs": [
    {
     "data": {
      "text/plain": [
       "{'HI-I-05': 2754,\n",
       " 'HI-II-14': 13944,\n",
       " 'II_binary': 28653,\n",
       " 'II_complexes': 31276,\n",
       " 'II_kinase': 6066,\n",
       " 'II_literature': 88349,\n",
       " 'II_metabolic': 5325,\n",
       " 'II_regulatory': 1335,\n",
       " 'II_signaling': 32706,\n",
       " 'Lit-BM-13': 11045,\n",
       " 'Venkatesan-09': 239,\n",
       " 'Yu-11': 1167,\n",
       " 'hetio-dag': 96299}"
      ]
     },
     "execution_count": 19,
     "metadata": {},
     "output_type": "execute_result"
    }
   ],
   "source": [
    "# Interactions per resource\n",
    "{k: len(v) for k, v in source_to_interactions.items()}"
   ]
  },
  {
   "cell_type": "code",
   "execution_count": 20,
   "metadata": {
    "collapsed": false
   },
   "outputs": [
    {
     "data": {
      "text/html": [
       "<div>\n",
       "<table border=\"1\" class=\"dataframe\">\n",
       "  <thead>\n",
       "    <tr style=\"text-align: right;\">\n",
       "      <th></th>\n",
       "      <th>HI-I-05</th>\n",
       "      <th>HI-II-14</th>\n",
       "      <th>II_binary</th>\n",
       "      <th>II_complexes</th>\n",
       "      <th>II_kinase</th>\n",
       "      <th>II_literature</th>\n",
       "      <th>II_metabolic</th>\n",
       "      <th>II_regulatory</th>\n",
       "      <th>II_signaling</th>\n",
       "      <th>Lit-BM-13</th>\n",
       "      <th>Venkatesan-09</th>\n",
       "      <th>Yu-11</th>\n",
       "      <th>hetio-dag</th>\n",
       "    </tr>\n",
       "    <tr>\n",
       "      <th>source_0</th>\n",
       "      <th></th>\n",
       "      <th></th>\n",
       "      <th></th>\n",
       "      <th></th>\n",
       "      <th></th>\n",
       "      <th></th>\n",
       "      <th></th>\n",
       "      <th></th>\n",
       "      <th></th>\n",
       "      <th></th>\n",
       "      <th></th>\n",
       "      <th></th>\n",
       "      <th></th>\n",
       "    </tr>\n",
       "  </thead>\n",
       "  <tbody>\n",
       "    <tr>\n",
       "      <th>HI-I-05</th>\n",
       "      <td>100.00</td>\n",
       "      <td>26.87</td>\n",
       "      <td>98.22</td>\n",
       "      <td>1.74</td>\n",
       "      <td>0.15</td>\n",
       "      <td>98.15</td>\n",
       "      <td>0.00</td>\n",
       "      <td>0.04</td>\n",
       "      <td>75.67</td>\n",
       "      <td>5.81</td>\n",
       "      <td>4.94</td>\n",
       "      <td>4.54</td>\n",
       "      <td>92.16</td>\n",
       "    </tr>\n",
       "    <tr>\n",
       "      <th>HI-II-14</th>\n",
       "      <td>5.31</td>\n",
       "      <td>100.00</td>\n",
       "      <td>100.00</td>\n",
       "      <td>0.85</td>\n",
       "      <td>0.09</td>\n",
       "      <td>9.19</td>\n",
       "      <td>0.01</td>\n",
       "      <td>0.00</td>\n",
       "      <td>4.79</td>\n",
       "      <td>2.94</td>\n",
       "      <td>0.47</td>\n",
       "      <td>4.77</td>\n",
       "      <td>9.41</td>\n",
       "    </tr>\n",
       "    <tr>\n",
       "      <th>II_binary</th>\n",
       "      <td>9.44</td>\n",
       "      <td>48.67</td>\n",
       "      <td>100.00</td>\n",
       "      <td>1.70</td>\n",
       "      <td>0.69</td>\n",
       "      <td>49.01</td>\n",
       "      <td>0.01</td>\n",
       "      <td>0.04</td>\n",
       "      <td>27.42</td>\n",
       "      <td>9.96</td>\n",
       "      <td>0.83</td>\n",
       "      <td>4.07</td>\n",
       "      <td>47.21</td>\n",
       "    </tr>\n",
       "    <tr>\n",
       "      <th>II_complexes</th>\n",
       "      <td>0.15</td>\n",
       "      <td>0.38</td>\n",
       "      <td>1.56</td>\n",
       "      <td>100.00</td>\n",
       "      <td>0.24</td>\n",
       "      <td>23.52</td>\n",
       "      <td>0.05</td>\n",
       "      <td>0.01</td>\n",
       "      <td>4.68</td>\n",
       "      <td>2.90</td>\n",
       "      <td>0.01</td>\n",
       "      <td>0.07</td>\n",
       "      <td>9.13</td>\n",
       "    </tr>\n",
       "    <tr>\n",
       "      <th>II_kinase</th>\n",
       "      <td>0.07</td>\n",
       "      <td>0.20</td>\n",
       "      <td>3.25</td>\n",
       "      <td>1.24</td>\n",
       "      <td>100.00</td>\n",
       "      <td>32.00</td>\n",
       "      <td>0.00</td>\n",
       "      <td>0.03</td>\n",
       "      <td>24.81</td>\n",
       "      <td>4.39</td>\n",
       "      <td>0.00</td>\n",
       "      <td>0.02</td>\n",
       "      <td>31.09</td>\n",
       "    </tr>\n",
       "    <tr>\n",
       "      <th>II_literature</th>\n",
       "      <td>3.06</td>\n",
       "      <td>1.45</td>\n",
       "      <td>15.89</td>\n",
       "      <td>8.32</td>\n",
       "      <td>2.20</td>\n",
       "      <td>100.00</td>\n",
       "      <td>0.04</td>\n",
       "      <td>0.07</td>\n",
       "      <td>32.55</td>\n",
       "      <td>9.78</td>\n",
       "      <td>0.26</td>\n",
       "      <td>0.22</td>\n",
       "      <td>53.77</td>\n",
       "    </tr>\n",
       "    <tr>\n",
       "      <th>II_metabolic</th>\n",
       "      <td>0.00</td>\n",
       "      <td>0.04</td>\n",
       "      <td>0.08</td>\n",
       "      <td>0.32</td>\n",
       "      <td>0.00</td>\n",
       "      <td>0.66</td>\n",
       "      <td>100.00</td>\n",
       "      <td>0.00</td>\n",
       "      <td>0.24</td>\n",
       "      <td>0.08</td>\n",
       "      <td>0.00</td>\n",
       "      <td>0.00</td>\n",
       "      <td>0.68</td>\n",
       "    </tr>\n",
       "    <tr>\n",
       "      <th>II_regulatory</th>\n",
       "      <td>0.07</td>\n",
       "      <td>0.00</td>\n",
       "      <td>0.82</td>\n",
       "      <td>0.15</td>\n",
       "      <td>0.15</td>\n",
       "      <td>4.79</td>\n",
       "      <td>0.00</td>\n",
       "      <td>100.00</td>\n",
       "      <td>3.37</td>\n",
       "      <td>1.20</td>\n",
       "      <td>0.00</td>\n",
       "      <td>0.00</td>\n",
       "      <td>9.89</td>\n",
       "    </tr>\n",
       "    <tr>\n",
       "      <th>II_signaling</th>\n",
       "      <td>6.37</td>\n",
       "      <td>2.04</td>\n",
       "      <td>24.02</td>\n",
       "      <td>4.48</td>\n",
       "      <td>4.60</td>\n",
       "      <td>87.94</td>\n",
       "      <td>0.04</td>\n",
       "      <td>0.14</td>\n",
       "      <td>100.00</td>\n",
       "      <td>15.51</td>\n",
       "      <td>0.31</td>\n",
       "      <td>0.31</td>\n",
       "      <td>88.74</td>\n",
       "    </tr>\n",
       "    <tr>\n",
       "      <th>Lit-BM-13</th>\n",
       "      <td>1.45</td>\n",
       "      <td>3.71</td>\n",
       "      <td>25.83</td>\n",
       "      <td>8.20</td>\n",
       "      <td>2.41</td>\n",
       "      <td>78.21</td>\n",
       "      <td>0.04</td>\n",
       "      <td>0.14</td>\n",
       "      <td>45.93</td>\n",
       "      <td>100.00</td>\n",
       "      <td>0.05</td>\n",
       "      <td>0.57</td>\n",
       "      <td>85.82</td>\n",
       "    </tr>\n",
       "    <tr>\n",
       "      <th>Venkatesan-09</th>\n",
       "      <td>56.90</td>\n",
       "      <td>27.20</td>\n",
       "      <td>99.58</td>\n",
       "      <td>1.26</td>\n",
       "      <td>0.00</td>\n",
       "      <td>96.65</td>\n",
       "      <td>0.00</td>\n",
       "      <td>0.00</td>\n",
       "      <td>41.84</td>\n",
       "      <td>2.51</td>\n",
       "      <td>100.00</td>\n",
       "      <td>5.44</td>\n",
       "      <td>96.65</td>\n",
       "    </tr>\n",
       "    <tr>\n",
       "      <th>Yu-11</th>\n",
       "      <td>10.71</td>\n",
       "      <td>56.98</td>\n",
       "      <td>100.00</td>\n",
       "      <td>1.89</td>\n",
       "      <td>0.09</td>\n",
       "      <td>16.28</td>\n",
       "      <td>0.00</td>\n",
       "      <td>0.00</td>\n",
       "      <td>8.74</td>\n",
       "      <td>5.40</td>\n",
       "      <td>1.11</td>\n",
       "      <td>100.00</td>\n",
       "      <td>45.42</td>\n",
       "    </tr>\n",
       "    <tr>\n",
       "      <th>hetio-dag</th>\n",
       "      <td>2.64</td>\n",
       "      <td>1.36</td>\n",
       "      <td>14.05</td>\n",
       "      <td>2.97</td>\n",
       "      <td>1.96</td>\n",
       "      <td>49.33</td>\n",
       "      <td>0.04</td>\n",
       "      <td>0.14</td>\n",
       "      <td>30.14</td>\n",
       "      <td>9.84</td>\n",
       "      <td>0.24</td>\n",
       "      <td>0.55</td>\n",
       "      <td>100.00</td>\n",
       "    </tr>\n",
       "  </tbody>\n",
       "</table>\n",
       "</div>"
      ],
      "text/plain": [
       "               HI-I-05  HI-II-14  II_binary  II_complexes  II_kinase  \\\n",
       "source_0                                                               \n",
       "HI-I-05         100.00     26.87      98.22          1.74       0.15   \n",
       "HI-II-14          5.31    100.00     100.00          0.85       0.09   \n",
       "II_binary         9.44     48.67     100.00          1.70       0.69   \n",
       "II_complexes      0.15      0.38       1.56        100.00       0.24   \n",
       "II_kinase         0.07      0.20       3.25          1.24     100.00   \n",
       "II_literature     3.06      1.45      15.89          8.32       2.20   \n",
       "II_metabolic      0.00      0.04       0.08          0.32       0.00   \n",
       "II_regulatory     0.07      0.00       0.82          0.15       0.15   \n",
       "II_signaling      6.37      2.04      24.02          4.48       4.60   \n",
       "Lit-BM-13         1.45      3.71      25.83          8.20       2.41   \n",
       "Venkatesan-09    56.90     27.20      99.58          1.26       0.00   \n",
       "Yu-11            10.71     56.98     100.00          1.89       0.09   \n",
       "hetio-dag         2.64      1.36      14.05          2.97       1.96   \n",
       "\n",
       "               II_literature  II_metabolic  II_regulatory  II_signaling  \\\n",
       "source_0                                                                  \n",
       "HI-I-05                98.15          0.00           0.04         75.67   \n",
       "HI-II-14                9.19          0.01           0.00          4.79   \n",
       "II_binary              49.01          0.01           0.04         27.42   \n",
       "II_complexes           23.52          0.05           0.01          4.68   \n",
       "II_kinase              32.00          0.00           0.03         24.81   \n",
       "II_literature         100.00          0.04           0.07         32.55   \n",
       "II_metabolic            0.66        100.00           0.00          0.24   \n",
       "II_regulatory           4.79          0.00         100.00          3.37   \n",
       "II_signaling           87.94          0.04           0.14        100.00   \n",
       "Lit-BM-13              78.21          0.04           0.14         45.93   \n",
       "Venkatesan-09          96.65          0.00           0.00         41.84   \n",
       "Yu-11                  16.28          0.00           0.00          8.74   \n",
       "hetio-dag              49.33          0.04           0.14         30.14   \n",
       "\n",
       "               Lit-BM-13  Venkatesan-09   Yu-11  hetio-dag  \n",
       "source_0                                                    \n",
       "HI-I-05             5.81           4.94    4.54      92.16  \n",
       "HI-II-14            2.94           0.47    4.77       9.41  \n",
       "II_binary           9.96           0.83    4.07      47.21  \n",
       "II_complexes        2.90           0.01    0.07       9.13  \n",
       "II_kinase           4.39           0.00    0.02      31.09  \n",
       "II_literature       9.78           0.26    0.22      53.77  \n",
       "II_metabolic        0.08           0.00    0.00       0.68  \n",
       "II_regulatory       1.20           0.00    0.00       9.89  \n",
       "II_signaling       15.51           0.31    0.31      88.74  \n",
       "Lit-BM-13         100.00           0.05    0.57      85.82  \n",
       "Venkatesan-09       2.51         100.00    5.44      96.65  \n",
       "Yu-11               5.40           1.11  100.00      45.42  \n",
       "hetio-dag           9.84           0.24    0.55     100.00  "
      ]
     },
     "execution_count": 20,
     "metadata": {},
     "output_type": "execute_result"
    }
   ],
   "source": [
    "# What percent of the interactions from the row source are in the interactions from the column source\n",
    "rows = []\n",
    "for source_0, source_1 in itertools.product(source_to_interactions, repeat=2):\n",
    "    source_0_genes = source_to_interactions[source_0]\n",
    "    intersect = source_0_genes & source_to_interactions[source_1]\n",
    "    rows.append((source_0, source_1, len(intersect) / len(source_0_genes)))\n",
    "\n",
    "overlap_df = pandas.DataFrame(rows, columns=['source_0', 'source_1', 'coverage'])\n",
    "overlap_df = overlap_df.pivot('source_0', 'source_1', 'coverage')\n",
    "numpy.round(overlap_df * 100, 2)"
   ]
  },
  {
   "cell_type": "code",
   "execution_count": 21,
   "metadata": {
    "collapsed": false
   },
   "outputs": [
    {
     "data": {
      "image/png": "[encoded data removed]",
      "text/plain": [
       "<matplotlib.figure.Figure at 0x7f17f6929898>"
      ]
     },
     "metadata": {},
     "output_type": "display_data"
    }
   ],
   "source": [
    "ax = seaborn.heatmap(overlap_df * 100)"
   ]
  },
  {
   "cell_type": "code",
   "execution_count": 22,
   "metadata": {
    "collapsed": false
   },
   "outputs": [],
   "source": [
    "combined_df.to_csv('data/ppi-sources.tsv', index=False, sep='\\t')"
   ]
  },
  {
   "cell_type": "markdown",
   "metadata": {},
   "source": [
    "## `hetio-ind` subset of interactions\n",
    "\n",
    "http://dx.doi.org/10.15363/thinklab.d85"
   ]
  },
  {
   "cell_type": "code",
   "execution_count": 23,
   "metadata": {
    "collapsed": true
   },
   "outputs": [],
   "source": [
    "# Sources to include PPIs from\n",
    "sources = {'HI-I-05', 'Venkatesan-09', 'Yu-11', 'HI-II-14', 'Lit-BM-13', 'II_binary', 'II_literature', 'hetio-dag'}\n",
    "# Sources that qualify a PPI as unbiased\n",
    "unbiased = {'HI-I-05', 'Venkatesan-09', 'Yu-11', 'HI-II-14'}"
   ]
  },
  {
   "cell_type": "code",
   "execution_count": 24,
   "metadata": {
    "collapsed": false
   },
   "outputs": [
    {
     "data": {
      "text/html": [
       "<div>\n",
       "<table border=\"1\" class=\"dataframe\">\n",
       "  <thead>\n",
       "    <tr style=\"text-align: right;\">\n",
       "      <th></th>\n",
       "      <th>gene_0</th>\n",
       "      <th>gene_1</th>\n",
       "      <th>sources</th>\n",
       "      <th>unbiased</th>\n",
       "    </tr>\n",
       "  </thead>\n",
       "  <tbody>\n",
       "    <tr>\n",
       "      <th>0</th>\n",
       "      <td>1</td>\n",
       "      <td>310</td>\n",
       "      <td>hetio-dag</td>\n",
       "      <td>0</td>\n",
       "    </tr>\n",
       "    <tr>\n",
       "      <th>1</th>\n",
       "      <td>1</td>\n",
       "      <td>1026</td>\n",
       "      <td>hetio-dag</td>\n",
       "      <td>0</td>\n",
       "    </tr>\n",
       "  </tbody>\n",
       "</table>\n",
       "</div>"
      ],
      "text/plain": [
       "   gene_0  gene_1    sources  unbiased\n",
       "0       1     310  hetio-dag         0\n",
       "1       1    1026  hetio-dag         0"
      ]
     },
     "execution_count": 24,
     "metadata": {},
     "output_type": "execute_result"
    }
   ],
   "source": [
    "# Condense to gene pairs\n",
    "hetio_ind_df = combined_df[combined_df.source.isin(sources)]\n",
    "hetio_ind_df = hetio_ind_df.groupby(['gene_0', 'gene_1']).apply(\n",
    "    lambda df: pandas.Series({\n",
    "            'sources': '|'.join(sorted(set(df.source))),\n",
    "            'unbiased': int(bool(set(df.source) & unbiased))\n",
    "        })).reset_index()\n",
    "hetio_ind_df.head(2)"
   ]
  },
  {
   "cell_type": "code",
   "execution_count": 25,
   "metadata": {
    "collapsed": false
   },
   "outputs": [
    {
     "data": {
      "text/plain": [
       "151729"
      ]
     },
     "execution_count": 25,
     "metadata": {},
     "output_type": "execute_result"
    }
   ],
   "source": [
    "len(hetio_ind_df)"
   ]
  },
  {
   "cell_type": "code",
   "execution_count": 26,
   "metadata": {
    "collapsed": false
   },
   "outputs": [
    {
     "data": {
      "text/plain": [
       "0    135203\n",
       "1     16526\n",
       "Name: unbiased, dtype: int64"
      ]
     },
     "execution_count": 26,
     "metadata": {},
     "output_type": "execute_result"
    }
   ],
   "source": [
    "hetio_ind_df.unbiased.value_counts()"
   ]
  },
  {
   "cell_type": "code",
   "execution_count": 27,
   "metadata": {
    "collapsed": true
   },
   "outputs": [],
   "source": [
    "hetio_ind_df.to_csv('data/ppi-hetio-ind.tsv', index=False, sep='\\t')"
   ]
  }
 ],
 "metadata": {
  "kernelspec": {
   "display_name": "Python 3",
   "language": "python",
   "name": "python3"
  },
  "language_info": {
   "codemirror_mode": {
    "name": "ipython",
    "version": 3
   },
   "file_extension": ".py",
   "mimetype": "text/x-python",
   "name": "python",
   "nbconvert_exporter": "python",
   "pygments_lexer": "ipython3",
   "version": "3.5.0"
  }
 },
 "nbformat": 4,
 "nbformat_minor": 0
}
